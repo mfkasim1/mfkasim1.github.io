{
 "cells": [
  {
   "cell_type": "code",
   "execution_count": 157,
   "metadata": {
    "collapsed": true
   },
   "outputs": [],
   "source": [
    "import numpy as np\n",
    "import matplotlib.pyplot as plt\n",
    "import emcee\n",
    "import scipy.spatial.distance\n",
    "from scipy.stats import multivariate_normal"
   ]
  },
  {
   "cell_type": "markdown",
   "metadata": {},
   "source": [
    "# Linear regression: uncertainty in uncertainty"
   ]
  },
  {
   "cell_type": "markdown",
   "metadata": {},
   "source": [
    "Let's say we have a data in x and y axes as below:"
   ]
  },
  {
   "cell_type": "code",
   "execution_count": 26,
   "metadata": {},
   "outputs": [
    {
     "data": {
      "image/png": "[encoded data removed]",
      "text/plain": [
       "<matplotlib.figure.Figure at 0x7fdc3fc1a290>"
      ]
     },
     "metadata": {},
     "output_type": "display_data"
    }
   ],
   "source": [
    "x = np.array([0.0596779, 0.34317802, 0.39211752, 0.42310646, 0.43857224, 0.4809319, 0.68482974,\n",
    "              0.71946897, 0.72904971, 0.9807642])\n",
    "y = np.array([-1.39284066, 0.02093466, -0.48427289, -0.36730135, -0.33372661, 0.49791066,\n",
    "              0.89920648, 0.63361326, 0.47788066, 1.07935026])\n",
    "plt.plot(x, y, '.')\n",
    "plt.show()"
   ]
  },
  {
   "cell_type": "markdown",
   "metadata": {},
   "source": [
    "With the data given above, we would like to fit it with a linear regression **y = a + bx**. That is, we would like to determine the coefficients and its error in different cases:\n",
    "\n",
    "1. Assuming the model is correct and the error is known\n",
    "2. Assuming the model is correct and the error is unknown\n",
    "3. The model has an assumed inadequacy and the error is unknown"
   ]
  },
  {
   "cell_type": "markdown",
   "metadata": {},
   "source": [
    "## Known correct model & known error"
   ]
  },
  {
   "cell_type": "markdown",
   "metadata": {},
   "source": [
    "In this first case, we will determine the uncertainty of the coefficients if we know the standard deviation of the data.\n",
    "The way we invert it is using Bayesian inference with the help from `emcee` sampler."
   ]
  },
  {
   "cell_type": "markdown",
   "metadata": {},
   "source": [
    "The probability density function of the coefficients can be written as\n",
    "\n",
    "$$\\begin{equation}\n",
    "P(a,b | \\mathcal{D}) \\propto P(\\mathcal{D} | a, b) P(a, b)\n",
    "\\end{equation}$$\n",
    "\n",
    "Assuming flat prior of \\\\(a, b\\\\), we can write the probability of the coefficients as\n",
    "\n",
    "$$\\begin{align}\n",
    "P(a,b | \\mathcal{D}) &\\propto P(\\mathcal{D} | a, b) \\\\\n",
    "& \\propto \\exp\\left[-\\sum_i \\frac{(a+bx_i-y_i)^2}{2\\sigma^2}\\right]\n",
    "\\end{align}$$\n",
    "\n",
    "From the expression above, we can draw samples of \\\\(a,b\\\\) using the `emcee` sampler."
   ]
  },
  {
   "cell_type": "code",
   "execution_count": 83,
   "metadata": {
    "collapsed": true
   },
   "outputs": [],
   "source": [
    "def lnprob1(param, x, y):\n",
    "    param = np.array(param)\n",
    "    a = param[0]\n",
    "    b = param[1]\n",
    "    sigma = 0.28297849805199204\n",
    "    return -np.sum((a + b * x - y)**2) / (2 * sigma**2)"
   ]
  },
  {
   "cell_type": "code",
   "execution_count": 84,
   "metadata": {},
   "outputs": [],
   "source": [
    "ndim, nwalkers = 2, 100\n",
    "ivar = 1. / np.random.rand(ndim)\n",
    "p0 = [np.random.rand(ndim) for i in range(nwalkers)]\n",
    "\n",
    "sampler = emcee.EnsembleSampler(nwalkers, ndim, lnprob1, args=[x, y])\n",
    "pos, prob, state = sampler.run_mcmc(p0, 10000)"
   ]
  },
  {
   "cell_type": "code",
   "execution_count": 85,
   "metadata": {},
   "outputs": [
    {
     "data": {
      "image/png": "[encoded data removed]",
      "text/plain": [
       "<matplotlib.figure.Figure at 0x7fdc3edaa890>"
      ]
     },
     "metadata": {},
     "output_type": "display_data"
    },
    {
     "name": "stdout",
     "output_type": "stream",
     "text": [
      "a: -1.301090 +- 0.223953 (true: -1.085631)\n",
      "b: 2.674668 +- 0.380601 (true: 1.994691)\n"
     ]
    }
   ],
   "source": [
    "a_post1 = sampler.flatchain[10000:,0]\n",
    "b_post1 = sampler.flatchain[10000:,1]\n",
    "plt.figure(figsize=(12,4))\n",
    "plt.subplot(1,2,1)\n",
    "plt.hist(a_post1, 50, normed=True)\n",
    "plt.title(\"a\")\n",
    "plt.subplot(1,2,2)\n",
    "plt.hist(b_post1, 50, normed=True)\n",
    "plt.title(\"b\")\n",
    "plt.show()\n",
    "\n",
    "print(\"a: %f +- %f (true: %f)\" % (np.mean(a_post1), np.std(a_post1), -1.0856306033005612))\n",
    "print(\"b: %f +- %f (true: %f)\" % (np.mean(b_post1), np.std(b_post1), 1.9946908931671716))"
   ]
  },
  {
   "cell_type": "markdown",
   "metadata": {},
   "source": [
    "## Known correct model and unknown error"
   ]
  },
  {
   "cell_type": "markdown",
   "metadata": {},
   "source": [
    "In this case, we don't know quite sure what the error was, so we put a prior uncertainty of the \\\\(\\sigma\\\\) and get the posterior belief on that as well as the other coefficients."
   ]
  },
  {
   "cell_type": "markdown",
   "metadata": {},
   "source": [
    "The probability density function of the coefficients can be written as\n",
    "\n",
    "$$\\begin{equation}\n",
    "P(a,b,\\sigma | \\mathcal{D}) \\propto P(\\mathcal{D} | a, b, \\sigma) P(a, b) P(\\sigma)\n",
    "\\end{equation}$$\n",
    "\n",
    "As before, the prior of \\\\(a, b\\\\) is assumed flat. However, we assumed the \\\\(\\sigma\\\\) to have the flat log prior. Therefore, we can write the probability of the coefficients as\n",
    "\n",
    "$$\\begin{align}\n",
    "P(a,b,\\sigma | \\mathcal{D}) &\\propto P(\\mathcal{D} | a, b, \\sigma) \\frac{1}{\\sigma} \\\\\n",
    "& \\propto \\exp\\left[-\\sum_i \\frac{(a+bx_i-y_i)^2}{2\\sigma^2}\\right] \\frac{1}{\\sigma^{N+1}}\n",
    "\\end{align}$$\n",
    "where \\\\(N\\\\) is the number of data samples.\n",
    "\n",
    "From the expression above, we can draw samples of \\\\(a,b, \\sigma\\\\) using the `emcee` sampler."
   ]
  },
  {
   "cell_type": "code",
   "execution_count": 153,
   "metadata": {},
   "outputs": [],
   "source": [
    "def lnprob2(param, x, y):\n",
    "    a, b, sigma = param\n",
    "    if sigma < 0: return -np.inf\n",
    "    \n",
    "    ymodel = a + b * x\n",
    "    N = len(x)\n",
    "    return - np.sum((ymodel - y)**2) / (2*sigma**2) - (N+1) * np.log(sigma)"
   ]
  },
  {
   "cell_type": "code",
   "execution_count": 154,
   "metadata": {},
   "outputs": [],
   "source": [
    "ndim, nwalkers = 3, 100\n",
    "p0 = np.random.random((nwalkers, ndim))\n",
    "\n",
    "sampler2 = emcee.EnsembleSampler(nwalkers, ndim, lnprob2, args=[x, y])\n",
    "pos, prob, state = sampler2.run_mcmc(p0, 10000)"
   ]
  },
  {
   "cell_type": "code",
   "execution_count": 152,
   "metadata": {},
   "outputs": [
    {
     "data": {
      "image/png": "[encoded data removed]",
      "text/plain": [
       "<matplotlib.figure.Figure at 0x7fdc3eeb0410>"
      ]
     },
     "metadata": {},
     "output_type": "display_data"
    },
    {
     "name": "stdout",
     "output_type": "stream",
     "text": [
      "a: -1.298608 +- 0.297102 (true: -1.085631)\n",
      "b: 2.671602 +- 0.503924 (true: 1.994691)\n",
      "sigma: 0.362446 +- 0.108571 (true: 0.282978)\n"
     ]
    }
   ],
   "source": [
    "a_post2 = sampler2.flatchain[10000:,0]\n",
    "b_post2 = sampler2.flatchain[10000:,1]\n",
    "s_post2 = sampler2.flatchain[10000:,2]\n",
    "plt.figure(figsize=(12,4))\n",
    "plt.subplot(1,3,1)\n",
    "plt.hist(a_post2, 50, normed=True)\n",
    "plt.title(\"a\")\n",
    "plt.subplot(1,3,2)\n",
    "plt.hist(b_post2, 50, normed=True)\n",
    "plt.title(\"b\")\n",
    "plt.subplot(1,3,3)\n",
    "plt.hist(s_post2, 50, normed=True)\n",
    "plt.title(\"sigma\")\n",
    "plt.show()\n",
    "\n",
    "print(\"a: %f +- %f (true: %f)\" % (np.mean(a_post2), np.std(a_post2), -1.0856306033005612))\n",
    "print(\"b: %f +- %f (true: %f)\" % (np.mean(b_post2), np.std(b_post2), 1.9946908931671716))\n",
    "print(\"sigma: %f +- %f (true: %f)\" % (np.mean(s_post2), np.std(s_post2), 0.28297849805199204))"
   ]
  },
  {
   "cell_type": "markdown",
   "metadata": {},
   "source": [
    "## Unknown correct model and unknown error "
   ]
  },
  {
   "cell_type": "markdown",
   "metadata": {},
   "source": [
    "This is similar to the previous case, except that we are not sure that the linear model is the correct one. One way to encode our uncertainty is to express the observation as\n",
    "\n",
    "$$\\begin{equation}\n",
    "\\hat{y}(x) = a + bx + \\varepsilon + \\eta(x)\n",
    "\\end{equation}$$\n",
    "\n",
    "where \\\\(\\varepsilon \\sim \\mathcal{N}(0, \\sigma^2)\\\\) is the Gaussian noise and \\\\(\\eta(x)\\\\) is the model inadequacy. Let's assume the model inadequacy is a Gaussian process with mean zero and squared exponential kernel:\n",
    "\n",
    "$$\\begin{align}\n",
    "\\eta(x) & \\sim \\mathcal{GP}\\left[0, c(\\cdot, \\cdot)\\right] \\\\\n",
    "c(x_1, x_2) & = m^2 \\exp\\left[-\\frac{(x_1 - x_2)^2}{2 d^2}\\right]\n",
    "\\end{align}$$\n",
    "\n",
    "To encode the Gaussian noise and the Gaussian process in one expression, we can write it as\n",
    "\n",
    "$$\\begin{align}\n",
    "(\\eta(x) + \\varepsilon) & \\sim \\mathcal{GP}\\left[0, c_2(\\cdot, \\cdot)\\right] \\\\\n",
    "c_2(x_1, x_2) & = m^2 \\exp\\left[-\\frac{(x_1 - x_2)^2}{2 d^2}\\right] + \\delta(x_1-x_2) \\sigma^2\n",
    "\\end{align}$$\n",
    "\n",
    "where \\\\(\\delta\\\\) term is one when the argument is zero and zero otherwise.\n"
   ]
  },
  {
   "cell_type": "markdown",
   "metadata": {},
   "source": [
    "The posterior distribution is given by\n",
    "\n",
    "$$\\begin{equation}\n",
    "P(a,b,\\sigma,m,d | \\mathcal{D}) \\propto P(\\mathcal{D} | a, b, \\sigma, m, d) P(a, b) P(\\sigma) P(m) P(d)\n",
    "\\end{equation}$$\n",
    "\n",
    "As before, the prior of \\\\(a, b\\\\) is assumed flat and \\\\(\\sigma\\\\) to have the flat log prior. Here we also assume \\\\(m,d\\\\) to have the flat log prior. Thus, we can write the probability of the coefficients as\n",
    "\n",
    "$$\\begin{align}\n",
    "P(a,b,\\sigma,m,d | \\mathcal{D}) &\\propto P(\\mathcal{D} | a, b, \\sigma, m, d) \\frac{1}{\\sigma m d} \\\\\n",
    "& \\propto \\mathcal{GP}\\left[\\hat{y}; a + bx, c_2(\\cdot, \\cdot)\\right] \\frac{1}{\\sigma m d}\n",
    "\\end{align}$$\n",
    "\n",
    "From the expression above, we can draw samples of \\\\(a,b, \\sigma, m, d\\\\) using the `emcee` sampler."
   ]
  },
  {
   "cell_type": "code",
   "execution_count": 193,
   "metadata": {
    "collapsed": true
   },
   "outputs": [],
   "source": [
    "def lnprob3(param, x, y, dist):\n",
    "    a, b, sigma, m, d = param\n",
    "    if sigma < 0 or m < 0 or d < 0: return -np.inf\n",
    "    if d > 1: return -np.inf\n",
    "    \n",
    "    # calculate the covariance matrix\n",
    "    cov = m*m * np.exp(-dist**2/(2*d*d)) + np.eye(len(x)) * (sigma*sigma)\n",
    "    # cov = np.eye(len(x)) * (sigma * sigma)\n",
    "    \n",
    "    ymodel = a + b * x\n",
    "    obs = ymodel - y\n",
    "    return multivariate_normal.logpdf(obs, mean=np.zeros(obs.shape[0]), cov=cov) - np.log(sigma * m * d)"
   ]
  },
  {
   "cell_type": "code",
   "execution_count": 194,
   "metadata": {},
   "outputs": [],
   "source": [
    "dist = scipy.spatial.distance.squareform(scipy.spatial.distance.pdist(np.expand_dims(x, 1)))"
   ]
  },
  {
   "cell_type": "code",
   "execution_count": 198,
   "metadata": {},
   "outputs": [],
   "source": [
    "ndim, nwalkers = 5, 100\n",
    "p0 = np.random.random((nwalkers, ndim))\n",
    "\n",
    "sampler3 = emcee.EnsembleSampler(nwalkers, ndim, lnprob3, args=[x, y, dist])\n",
    "pos, prob, state = sampler3.run_mcmc(p0, 100000)"
   ]
  },
  {
   "cell_type": "code",
   "execution_count": 199,
   "metadata": {},
   "outputs": [
    {
     "data": {
      "image/png": "[encoded data removed]",
      "text/plain": [
       "<matplotlib.figure.Figure at 0x7fdc3f4bf190>"
      ]
     },
     "metadata": {},
     "output_type": "display_data"
    },
    {
     "name": "stdout",
     "output_type": "stream",
     "text": [
      "a: -1.302273 +- 0.331669 (true: -1.085631)\n",
      "b: 2.682363 +- 0.546369 (true: 1.994691)\n",
      "sigma: 0.183237 +- 0.193064 (true: 0.282978)\n",
      "m: 0.202844 +- 0.245070\n",
      "d: 0.026837 +- 0.111431\n"
     ]
    }
   ],
   "source": [
    "nburn = 10000\n",
    "a_post3 = sampler3.flatchain[nburn:,0]\n",
    "b_post3 = sampler3.flatchain[nburn:,1]\n",
    "s_post3 = sampler3.flatchain[nburn:,2]\n",
    "m_post3 = sampler3.flatchain[nburn:,3]\n",
    "d_post3 = sampler3.flatchain[nburn:,4]\n",
    "plt.figure(figsize=(20,4))\n",
    "plt.subplot(1,5,1)\n",
    "plt.hist(a_post3, 50, normed=True)\n",
    "plt.title(\"a\")\n",
    "plt.subplot(1,5,2)\n",
    "plt.hist(b_post3, 50, normed=True)\n",
    "plt.title(\"b\")\n",
    "plt.subplot(1,5,3)\n",
    "plt.hist(s_post3, 50, normed=True)\n",
    "plt.title(\"sigma\")\n",
    "plt.subplot(1,5,4)\n",
    "plt.hist(m_post3, 50, normed=True)\n",
    "plt.title(\"m\")\n",
    "plt.subplot(1,5,5)\n",
    "plt.hist(d_post3, 50, normed=True)\n",
    "plt.title(\"d\")\n",
    "plt.show()\n",
    "\n",
    "print(\"a: %f +- %f (true: %f)\" % (np.mean(a_post3), np.std(a_post3), -1.0856306033005612))\n",
    "print(\"b: %f +- %f (true: %f)\" % (np.mean(b_post3), np.std(b_post3), 1.9946908931671716))\n",
    "print(\"sigma: %f +- %f (true: %f)\" % (np.mean(s_post3), np.std(s_post3), 0.28297849805199204))\n",
    "print(\"m: %f +- %f\" % (np.mean(m_post3), np.std(m_post3)))\n",
    "print(\"d: %f +- %f\" % (np.mean(d_post3), np.std(d_post3)))"
   ]
  },
  {
   "cell_type": "markdown",
   "metadata": {},
   "source": [
    "## Conclusions"
   ]
  },
  {
   "cell_type": "markdown",
   "metadata": {},
   "source": [
    "We have compared the retrieved coefficients with different degrees of uncertainty: (1) known model and known error, (2) known model and unknown error, and (3) unknown model and unknown error. Here are the comparisons of the retrieved coefficients for those three cases."
   ]
  },
  {
   "cell_type": "code",
   "execution_count": 204,
   "metadata": {},
   "outputs": [
    {
     "data": {
      "image/png": "[encoded data removed]",
      "text/plain": [
       "<matplotlib.figure.Figure at 0x7fdc3f8e38d0>"
      ]
     },
     "metadata": {},
     "output_type": "display_data"
    }
   ],
   "source": [
    "plt.figure(figsize=(10, 12))\n",
    "a_xlim = (-2.5, 1)\n",
    "b_xlim = (0, 5)\n",
    "\n",
    "plt.subplot(3,2,1)\n",
    "plt.hist(a_post1, 50, normed=True, range=a_xlim)\n",
    "plt.title(\"a\")\n",
    "plt.ylabel(\"Known model and known error\")\n",
    "plt.subplot(3,2,2)\n",
    "plt.hist(b_post1, 50, normed=True, range=b_xlim)\n",
    "plt.title(\"b\")\n",
    "\n",
    "plt.subplot(3,2,3)\n",
    "plt.hist(a_post2, 50, normed=True, range=a_xlim)\n",
    "plt.ylabel(\"Known model and unknown error\")\n",
    "plt.subplot(3,2,4)\n",
    "plt.hist(b_post2, 50, normed=True, range=b_xlim)\n",
    "\n",
    "plt.subplot(3,2,5)\n",
    "plt.hist(a_post3, 50, normed=True, range=a_xlim)\n",
    "plt.ylabel(\"Unknown model and unknown error\")\n",
    "plt.subplot(3,2,6)\n",
    "plt.hist(b_post3, 50, normed=True, range=b_xlim)\n",
    "\n",
    "plt.show()"
   ]
  },
  {
   "cell_type": "markdown",
   "metadata": {},
   "source": [
    "### Data generator"
   ]
  },
  {
   "cell_type": "code",
   "execution_count": 27,
   "metadata": {},
   "outputs": [
    {
     "data": {
      "image/png": "[encoded data removed]",
      "text/plain": [
       "<matplotlib.figure.Figure at 0x7fdc3f6032d0>"
      ]
     },
     "metadata": {},
     "output_type": "display_data"
    },
    {
     "name": "stdout",
     "output_type": "stream",
     "text": [
      "[ 0.0596779   0.34317802  0.39211752  0.42310646  0.43857224  0.4809319\n",
      "  0.68482974  0.71946897  0.72904971  0.9807642 ]\n",
      "[-1.39284066  0.02093466 -0.48427289 -0.36730135 -0.33372661  0.49791066\n",
      "  0.89920648  0.63361326  0.47788066  1.07935026]\n",
      "(-1.0856306033005612, 1.9946908931671716, 0.28297849805199204)\n"
     ]
    }
   ],
   "source": [
    "import numpy as np\n",
    "import matplotlib.pyplot as plt\n",
    "np.random.seed(123)\n",
    "size = (10,)\n",
    "a = np.random.randn()\n",
    "b = np.random.randn() * 2\n",
    "sigma = np.abs(np.random.randn() * 1)\n",
    "x = np.sort(np.random.random(size))\n",
    "y = a + b * x + np.random.randn(*size) * sigma\n",
    "\n",
    "plt.errorbar(x, y, yerr=sigma, fmt='.')\n",
    "plt.show()\n",
    "\n",
    "print(x)\n",
    "print(y)\n",
    "print(a, b, sigma)"
   ]
  },
  {
   "cell_type": "code",
   "execution_count": null,
   "metadata": {
    "collapsed": true
   },
   "outputs": [],
   "source": []
  }
 ],
 "metadata": {
  "kernelspec": {
   "display_name": "Python 2",
   "language": "python",
   "name": "python2"
  },
  "language_info": {
   "codemirror_mode": {
    "name": "ipython",
    "version": 2
   },
   "file_extension": ".py",
   "mimetype": "text/x-python",
   "name": "python",
   "nbconvert_exporter": "python",
   "pygments_lexer": "ipython2",
   "version": "2.7.12"
  }
 },
 "nbformat": 4,
 "nbformat_minor": 2
}
